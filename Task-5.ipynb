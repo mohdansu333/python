{
 "cells": [
  {
   "cell_type": "markdown",
   "id": "fa821b03",
   "metadata": {},
   "source": [
    "1.  Write a Python program to create a class representing a Circle. Include methods to calculate its area and perimeter.\n"
   ]
  },
  {
   "cell_type": "code",
   "execution_count": 1,
   "id": "e7810acd",
   "metadata": {},
   "outputs": [
    {
     "name": "stdout",
     "output_type": "stream",
     "text": [
      "Area: 78.53981633974483\n",
      "Perimeter: 31.41592653589793\n"
     ]
    }
   ],
   "source": [
    "import math\n",
    "\n",
    "class Circle:\n",
    "    def __init__(self, radius):\n",
    "        self.radius = radius\n",
    "\n",
    "    def area(self):\n",
    "        return math.pi * (self.radius ** 2)\n",
    "\n",
    "    def perimeter(self):\n",
    "        return 2 * math.pi * self.radius\n",
    "\n",
    "# Test the class\n",
    "circle = Circle(5)\n",
    "print(\"Area:\", circle.area())\n",
    "print(\"Perimeter:\", circle.perimeter())"
   ]
  },
  {
   "cell_type": "markdown",
   "id": "93d6c774",
   "metadata": {},
   "source": [
    "2. Write a Python program to create a calculator class. Include methods for basic arithmetic operations.\n"
   ]
  },
  {
   "cell_type": "code",
   "execution_count": 2,
   "id": "6ab2a169",
   "metadata": {},
   "outputs": [
    {
     "name": "stdout",
     "output_type": "stream",
     "text": [
      "Addition: 8\n",
      "Subtraction: 2\n",
      "Multiplication: 15\n",
      "Division: 1.6666666666666667\n"
     ]
    }
   ],
   "source": [
    "class Calculator:\n",
    "    def add(self, a, b):\n",
    "        return a + b\n",
    "\n",
    "    def subtract(self, a, b):\n",
    "        return a - b\n",
    "\n",
    "    def multiply(self, a, b):\n",
    "        return a * b\n",
    "\n",
    "    def divide(self, a, b):\n",
    "        if b != 0:\n",
    "            return a / b\n",
    "        else:\n",
    "            return \"Error: Division by zero is not allowed\"\n",
    "\n",
    "# Test the class\n",
    "calculator = Calculator()\n",
    "print(\"Addition:\", calculator.add(5, 3))\n",
    "print(\"Subtraction:\", calculator.subtract(5, 3))\n",
    "print(\"Multiplication:\", calculator.multiply(5, 3))\n",
    "print(\"Division:\", calculator.divide(5, 3))"
   ]
  },
  {
   "cell_type": "markdown",
   "id": "857b8a1b",
   "metadata": {},
   "source": [
    "3. Write a Python program to create a class that represents a shape. Include methods to calculate its area and perimeter. Implement subclasses for different shapes like circle, triangle, and square."
   ]
  },
  {
   "cell_type": "code",
   "execution_count": 3,
   "id": "5e0a8ab0",
   "metadata": {},
   "outputs": [
    {
     "name": "stdout",
     "output_type": "stream",
     "text": [
      "Circle - Area: 78.53981633974483 Perimeter: 31.41592653589793\n",
      "Triangle - Area: 25.0 Perimeter: 25\n",
      "Square - Area: 25 Perimeter: 20\n"
     ]
    }
   ],
   "source": [
    "import math\n",
    "\n",
    "class Shape:\n",
    "    def area(self):\n",
    "        pass\n",
    "\n",
    "    def perimeter(self):\n",
    "        pass\n",
    "\n",
    "class Circle(Shape):\n",
    "    def __init__(self, radius):\n",
    "        self.radius = radius\n",
    "\n",
    "    def area(self):\n",
    "        return math.pi * (self.radius ** 2)\n",
    "\n",
    "    def perimeter(self):\n",
    "        return 2 * math.pi * self.radius\n",
    "\n",
    "class Triangle(Shape):\n",
    "    def __init__(self, base, height):\n",
    "        self.base = base\n",
    "        self.height = height\n",
    "\n",
    "    def area(self):\n",
    "        return 0.5 * self.base * self.height\n",
    "\n",
    "    # This is a simplification; in a real Triangle class, you might want to accept the lengths of all three sides as parameters\n",
    "    def perimeter(self):\n",
    "        return 2 * self.height + self.base\n",
    "\n",
    "class Square(Shape):\n",
    "    def __init__(self, side):\n",
    "        self.side = side\n",
    "\n",
    "    def area(self):\n",
    "        return self.side ** 2\n",
    "\n",
    "    def perimeter(self):\n",
    "        return 4 * self.side\n",
    "\n",
    "# Test the classes\n",
    "circle = Circle(5)\n",
    "print(\"Circle - Area:\", circle.area(), \"Perimeter:\", circle.perimeter())\n",
    "\n",
    "triangle = Triangle(5, 10)\n",
    "print(\"Triangle - Area:\", triangle.area(), \"Perimeter:\", triangle.perimeter())\n",
    "\n",
    "square = Square(5)\n",
    "print(\"Square - Area:\", square.area(), \"Perimeter:\", square.perimeter())"
   ]
  },
  {
   "cell_type": "code",
   "execution_count": null,
   "id": "5d382cdb",
   "metadata": {},
   "outputs": [],
   "source": []
  }
 ],
 "metadata": {
  "kernelspec": {
   "display_name": "Python 3 (ipykernel)",
   "language": "python",
   "name": "python3"
  },
  "language_info": {
   "codemirror_mode": {
    "name": "ipython",
    "version": 3
   },
   "file_extension": ".py",
   "mimetype": "text/x-python",
   "name": "python",
   "nbconvert_exporter": "python",
   "pygments_lexer": "ipython3",
   "version": "3.11.4"
  }
 },
 "nbformat": 4,
 "nbformat_minor": 5
}
