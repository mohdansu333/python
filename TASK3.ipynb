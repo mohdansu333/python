{
 "cells": [
  {
   "cell_type": "markdown",
   "id": "15b6f9e1",
   "metadata": {},
   "source": [
    "# Task-3\n"
   ]
  },
  {
   "cell_type": "raw",
   "id": "ef448882",
   "metadata": {},
   "source": [
    "1) Write a Python program to sum all the items in a list."
   ]
  },
  {
   "cell_type": "code",
   "execution_count": 143,
   "id": "72cb8810",
   "metadata": {},
   "outputs": [
    {
     "data": {
      "text/plain": [
       "55"
      ]
     },
     "execution_count": 143,
     "metadata": {},
     "output_type": "execute_result"
    }
   ],
   "source": [
    "l=[1,2,3,4,5,6,7,8,9,10]\n",
    "for i in l:\n",
    "    sum=l[0]+l[1]+l[2]+l[3]+l[4]+l[5]+l[6]+l[7]+l[8]+l[9]\n",
    "sum"
   ]
  },
  {
   "cell_type": "raw",
   "id": "5b63d8d6",
   "metadata": {},
   "source": [
    "2)Write a Python program to get the largest number from a list.\n"
   ]
  },
  {
   "cell_type": "code",
   "execution_count": 144,
   "id": "7ad1cbbf",
   "metadata": {},
   "outputs": [
    {
     "name": "stdout",
     "output_type": "stream",
     "text": [
      "the largest number from the list is: 100\n"
     ]
    }
   ],
   "source": [
    "list=[32,56,28,100,90,86]\n",
    "list.sort()\n",
    "print(\"the largest number from the list is:\",list[-1])"
   ]
  },
  {
   "cell_type": "raw",
   "id": "97ab6a11",
   "metadata": {},
   "source": [
    "3)Write a Python program to remove duplicates from a list.\n"
   ]
  },
  {
   "cell_type": "code",
   "execution_count": 2,
   "id": "fe4ab9ee",
   "metadata": {},
   "outputs": [
    {
     "data": {
      "text/plain": [
       "[1, 3, 4, 7, 8, 9, 10]"
      ]
     },
     "execution_count": 2,
     "metadata": {},
     "output_type": "execute_result"
    }
   ],
   "source": [
    "# converting the list to set to remove duplicate values\n",
    "l=[1,1,3,4,4,7,7,7,8,8,9,10] \n",
    "a=set(l)\n",
    "list(a)"
   ]
  },
  {
   "cell_type": "raw",
   "id": "fff5f891",
   "metadata": {},
   "source": [
    "4)Write a Python program to check if a list is empty or not."
   ]
  },
  {
   "cell_type": "code",
   "execution_count": 146,
   "id": "778245ee",
   "metadata": {},
   "outputs": [
    {
     "name": "stdout",
     "output_type": "stream",
     "text": [
      "This list is empty\n"
     ]
    }
   ],
   "source": [
    "thislist=[]\n",
    "len(thislist)\n",
    "if len(thislist)==0:\n",
    "    print(\"This list is empty\")\n",
    "else:\n",
    "    print(\"This list is not empty\")  "
   ]
  },
  {
   "cell_type": "raw",
   "id": "586d9544",
   "metadata": {},
   "source": [
    "5)Write a Python program to filter the list if the length of the character is< 4\n",
    "Sample List : ['abc', 'xyz', 'aba', '1221']\n",
    "Expected Result: ['abc', 'xyz', 'aba']\n"
   ]
  },
  {
   "cell_type": "code",
   "execution_count": 1,
   "id": "4271886a",
   "metadata": {},
   "outputs": [
    {
     "name": "stdout",
     "output_type": "stream",
     "text": [
      "['abc', 'xyz', 'aba']\n"
     ]
    }
   ],
   "source": [
    "samplelist=['abc', 'xyz', 'aba', '1221']\n",
    "ExpectedResult=[]\n",
    "for i in samplelist:\n",
    "    if len(i)<4:\n",
    "        ExpectedResult.append(i)\n",
    "print(ExpectedResult)"
   ]
  },
  {
   "cell_type": "raw",
   "id": "8f1df86a",
   "metadata": {},
   "source": [
    "6)Write a Python program to find the second largest number in a list.\n"
   ]
  },
  {
   "cell_type": "code",
   "execution_count": 148,
   "id": "a034312e",
   "metadata": {},
   "outputs": [
    {
     "name": "stdout",
     "output_type": "stream",
     "text": [
      "the second largest number from the list is: 90\n"
     ]
    }
   ],
   "source": [
    "list=[32,56,28,100,90,86]\n",
    "list.sort()\n",
    "print(\"the second largest number from the list is:\",list[-2])"
   ]
  },
  {
   "cell_type": "raw",
   "id": "e6ad3606",
   "metadata": {},
   "source": [
    "7)Write a Python program to reverse a list at a specific location.\n"
   ]
  },
  {
   "cell_type": "code",
   "execution_count": 167,
   "id": "b26c8bf2",
   "metadata": {},
   "outputs": [
    {
     "name": "stdout",
     "output_type": "stream",
     "text": [
      "Reversed list: ['cat', 'ball', 'apple']\n"
     ]
    }
   ],
   "source": [
    "mylist=[\"apple\",\"ball\",\"cat\"]\n",
    "mylist.reverse()\n",
    "a=mylist\n",
    "print(\"Reversed list:\",a)"
   ]
  },
  {
   "cell_type": "raw",
   "id": "92d186f8",
   "metadata": {},
   "source": [
    "8)Write a Python program to check if a list is a palindrome or not. Return true otherwise false."
   ]
  },
  {
   "cell_type": "code",
   "execution_count": 4,
   "id": "05d1a7ea",
   "metadata": {},
   "outputs": [
    {
     "name": "stdout",
     "output_type": "stream",
     "text": [
      "The list is palindrome\n"
     ]
    }
   ],
   "source": [
    "lst=[\"m\",\"a\",\"l\",\"a\",\"y\",\"a\",\"l\",\"a\",\"m\"]\n",
    "a=lst.copy()\n",
    "lst.reverse()\n",
    "b=lst\n",
    "if a==b:\n",
    "    print(\"The list is palindrome\")\n",
    "else:\n",
    "    print(\"The list is not Palindrome\")\n"
   ]
  },
  {
   "cell_type": "raw",
   "id": "7dda515f",
   "metadata": {},
   "source": [
    "10. Write a Python a program to find the union and intersection of two lists."
   ]
  },
  {
   "cell_type": "code",
   "execution_count": 2,
   "id": "6a8dbabb",
   "metadata": {},
   "outputs": [
    {
     "name": "stdout",
     "output_type": "stream",
     "text": [
      "{1, 2, 3, 4, 5, 6, 7, 8, 9, 10, 11}\n",
      "{1, 2, 3}\n"
     ]
    }
   ],
   "source": [
    "list1=[1,2,3,4,5,6,7]\n",
    "list2=[1,2,3,8,9,10,11]\n",
    "Union=print(set(list1) | set(list2))\n",
    "Union\n",
    "Intersection=print(set(list1) & set(list2))\n",
    "Intersection\n"
   ]
  },
  {
   "cell_type": "code",
   "execution_count": 12,
   "id": "f5a30def",
   "metadata": {},
   "outputs": [
    {
     "name": "stdout",
     "output_type": "stream",
     "text": [
      "Ascending:  {'a': 1, 's': 2, 'd': 3, 'g': 4}\n"
     ]
    },
    {
     "ename": "TypeError",
     "evalue": "'builtin_function_or_method' object is not iterable",
     "output_type": "error",
     "traceback": [
      "\u001b[1;31m---------------------------------------------------------------------------\u001b[0m",
      "\u001b[1;31mTypeError\u001b[0m                                 Traceback (most recent call last)",
      "Cell \u001b[1;32mIn[12], line 10\u001b[0m\n\u001b[0;32m      8\u001b[0m             res[k] \u001b[38;5;241m=\u001b[39m v\n\u001b[0;32m      9\u001b[0m \u001b[38;5;28mprint\u001b[39m(\u001b[38;5;124m\"\u001b[39m\u001b[38;5;124mAscending: \u001b[39m\u001b[38;5;124m\"\u001b[39m,res)\n\u001b[1;32m---> 10\u001b[0m \u001b[38;5;28mprint\u001b[39m(\u001b[38;5;124m\"\u001b[39m\u001b[38;5;124mDescending: \u001b[39m\u001b[38;5;124m\"\u001b[39m,\u001b[38;5;28mdict\u001b[39m(\u001b[38;5;28mreversed\u001b[39m(\u001b[38;5;28;43mlist\u001b[39;49m\u001b[43m(\u001b[49m\u001b[43mres\u001b[49m\u001b[38;5;241;43m.\u001b[39;49m\u001b[43mitems\u001b[49m\u001b[43m)\u001b[49m)))\n",
      "\u001b[1;31mTypeError\u001b[0m: 'builtin_function_or_method' object is not iterable"
     ]
    }
   ],
   "source": [
    "#11 sort by value\n",
    "d = {'a':1, 'd':3,'s':2,'g':4}\n",
    "res = {}\n",
    "values = sorted(d.values())\n",
    "for i in values :\n",
    "    for k,v in d.items():\n",
    "        if v == i:\n",
    "            res[k] = v\n",
    "print(\"Ascending: \",res)\n",
    "print(\"Descending: \",dict(reversed(list(res.items))))"
   ]
  },
  {
   "cell_type": "code",
   "execution_count": 4,
   "id": "c6158d4f",
   "metadata": {},
   "outputs": [
    {
     "name": "stdout",
     "output_type": "stream",
     "text": [
      "Present,  value = 322\n"
     ]
    }
   ],
   "source": [
    "#12 \n",
    "dic = {'a':33,'b':32,'f':322}\n",
    "key = 'f'\n",
    "if key in dic.keys():\n",
    "        print(\"Present, \", end =\" \")\n",
    "        print(\"value =\", dic[key])\n",
    "else:\n",
    "        print(\"Not present\")"
   ]
  },
  {
   "cell_type": "code",
   "execution_count": 5,
   "id": "90d632c8",
   "metadata": {},
   "outputs": [
    {
     "name": "stdout",
     "output_type": "stream",
     "text": [
      "387\n"
     ]
    }
   ],
   "source": [
    "#13\n",
    "dic = {'a':33,'b':32,'f':322}\n",
    "values = list(dic.values())\n",
    "print(sum(values))"
   ]
  },
  {
   "cell_type": "code",
   "execution_count": 6,
   "id": "9be0efe1",
   "metadata": {},
   "outputs": [
    {
     "name": "stdout",
     "output_type": "stream",
     "text": [
      "Input a number less than 10 2\n",
      "{1: 1, 2: 4}\n"
     ]
    }
   ],
   "source": [
    "#14 \n",
    "n=int(input(\"Input a number less than 10 \"))\n",
    "d = dict()\n",
    "\n",
    "for x in range(1,n+1):\n",
    "    d[x]=x*x\n",
    "\n",
    "print(d) "
   ]
  },
  {
   "cell_type": "code",
   "execution_count": 7,
   "id": "3e47151b",
   "metadata": {},
   "outputs": [
    {
     "name": "stdout",
     "output_type": "stream",
     "text": [
      "{'a': 1, 'd': 3, 'g': 4, 's': 2}\n"
     ]
    }
   ],
   "source": [
    "#15 sort dictionary by key\n",
    "dict = {'a':1, 'd':3,'s':2,'g':4}\n",
    "keys = list(dict.keys())\n",
    "keys.sort()\n",
    "sorted_d = {i : dict[i] for i in keys}\n",
    "\n",
    "print(sorted_d)"
   ]
  },
  {
   "cell_type": "code",
   "execution_count": 8,
   "id": "225aee9c",
   "metadata": {},
   "outputs": [
    {
     "name": "stdout",
     "output_type": "stream",
     "text": [
      "{'H': 1, 'e': 3, 'l': 3, 'o': 2, ' ': 1, 'W': 1, 'c': 1, 'm': 1}\n"
     ]
    }
   ],
   "source": [
    "#16 \n",
    "s = \"Hello Welcome\"\n",
    "dic = {}\n",
    "for i in s :\n",
    "    dic[i] = dic.get(i,0)+1\n",
    "print(dic)"
   ]
  },
  {
   "cell_type": "code",
   "execution_count": 9,
   "id": "288b7e4d",
   "metadata": {},
   "outputs": [
    {
     "name": "stdout",
     "output_type": "stream",
     "text": [
      "item4 55\n",
      "item1 45.5\n",
      "item3 41.3\n"
     ]
    }
   ],
   "source": [
    "#17 \n",
    "\n",
    "from heapq import nlargest\n",
    "from operator import itemgetter\n",
    "items = {'item1': 45.50, 'item2':35, 'item3': 41.30, 'item4':55, 'item5': 24}\n",
    "for name, value in nlargest(3, items.items(), key=itemgetter(1)):\n",
    "    print(name, value)"
   ]
  },
  {
   "cell_type": "code",
   "execution_count": null,
   "id": "e9e7cc13",
   "metadata": {},
   "outputs": [],
   "source": []
  }
 ],
 "metadata": {
  "kernelspec": {
   "display_name": "Python 3 (ipykernel)",
   "language": "python",
   "name": "python3"
  },
  "language_info": {
   "codemirror_mode": {
    "name": "ipython",
    "version": 3
   },
   "file_extension": ".py",
   "mimetype": "text/x-python",
   "name": "python",
   "nbconvert_exporter": "python",
   "pygments_lexer": "ipython3",
   "version": "3.11.4"
  }
 },
 "nbformat": 4,
 "nbformat_minor": 5
}
