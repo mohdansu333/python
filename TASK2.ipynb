{
 "cells": [
  {
   "cell_type": "markdown",
   "id": "8fd26819",
   "metadata": {},
   "source": [
    "# TASK -2\n",
    "1)Write a python program to find those numbers which are divisible by 7 and multiples of 5, for user input."
   ]
  },
  {
   "cell_type": "code",
   "execution_count": 1,
   "id": "58c29613",
   "metadata": {},
   "outputs": [
    {
     "name": "stdout",
     "output_type": "stream",
     "text": [
      "enter a number:20\n",
      "20 the number is not divisible by 7\n"
     ]
    }
   ],
   "source": [
    "a=int(input(\"enter a number:\"))\n",
    "if a%7==0 :\n",
    "   print(a,\"the number is divisible by 7\")\n",
    "else:\n",
    "    print(a,\"the number is not divisible by 7\")"
   ]
  },
  {
   "cell_type": "code",
   "execution_count": 2,
   "id": "80b3c9ae",
   "metadata": {},
   "outputs": [
    {
     "name": "stdout",
     "output_type": "stream",
     "text": [
      "the multiples of 5 are :\n",
      "5\n",
      "the multiples of 5 are :\n",
      "10\n",
      "the multiples of 5 are :\n",
      "15\n",
      "the multiples of 5 are :\n",
      "20\n",
      "the multiples of 5 are :\n",
      "25\n",
      "the multiples of 5 are :\n",
      "30\n",
      "the multiples of 5 are :\n",
      "35\n",
      "the multiples of 5 are :\n",
      "40\n",
      "the multiples of 5 are :\n",
      "45\n",
      "the multiples of 5 are :\n",
      "50\n",
      "the multiples of 5 are :\n",
      "55\n",
      "the multiples of 5 are :\n",
      "60\n",
      "the multiples of 5 are :\n",
      "65\n",
      "the multiples of 5 are :\n",
      "70\n",
      "the multiples of 5 are :\n",
      "75\n",
      "the multiples of 5 are :\n",
      "80\n",
      "the multiples of 5 are :\n",
      "85\n",
      "the multiples of 5 are :\n",
      "90\n",
      "the multiples of 5 are :\n",
      "95\n",
      "the multiples of 5 are :\n",
      "100\n"
     ]
    }
   ],
   "source": [
    "i=1\n",
    "while i<21:\n",
    "    print(\"the multiples of 5 are :\")\n",
    "    b=5*i\n",
    "    print (b)\n",
    "    i=i+1"
   ]
  },
  {
   "cell_type": "markdown",
   "id": "bd62630f",
   "metadata": {},
   "source": [
    "# \n",
    "2)Write a python program to check the user input is even or odd or zero."
   ]
  },
  {
   "cell_type": "code",
   "execution_count": 3,
   "id": "957e0ff7",
   "metadata": {},
   "outputs": [
    {
     "name": "stdout",
     "output_type": "stream",
     "text": [
      "enter a number:45\n",
      "45 the given number is odd\n"
     ]
    }
   ],
   "source": [
    "b=int(input(\"enter a number:\"))\n",
    "if b==0:\n",
    "    print(b,\"the given number is zero\")\n",
    "if b%2==0:\n",
    "     print(b,\"the given number is even\")\n",
    "else:\n",
    "    print(b,\"the given number is odd\")"
   ]
  },
  {
   "cell_type": "markdown",
   "id": "409c8877",
   "metadata": {},
   "source": [
    "# \n",
    "3)Print decimal part of an input number. If the decimal part is zero print this string:\"INTEGER\""
   ]
  },
  {
   "cell_type": "code",
   "execution_count": 4,
   "id": "4519a5c2",
   "metadata": {},
   "outputs": [
    {
     "name": "stdout",
     "output_type": "stream",
     "text": [
      "enter a number:50.52563625\n",
      "0.5256\n"
     ]
    }
   ],
   "source": [
    "b=float(input(\"enter a number:\"))\n",
    "c= b-int(b)\n",
    "print(round(c,4))\n",
    "if c==0:\n",
    "    print(\"If the deimal part is  zero this number is INTEGER\")"
   ]
  }
 ],
 "metadata": {
  "kernelspec": {
   "display_name": "Python 3 (ipykernel)",
   "language": "python",
   "name": "python3"
  },
  "language_info": {
   "codemirror_mode": {
    "name": "ipython",
    "version": 3
   },
   "file_extension": ".py",
   "mimetype": "text/x-python",
   "name": "python",
   "nbconvert_exporter": "python",
   "pygments_lexer": "ipython3",
   "version": "3.11.4"
  }
 },
 "nbformat": 4,
 "nbformat_minor": 5
}
