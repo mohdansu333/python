{
 "cells": [
  {
   "cell_type": "markdown",
   "id": "edc6bada",
   "metadata": {},
   "source": [
    "1)Write a Python program to check that a string contains only a certain set of characters (in this case a-z, A-Z and 0-9)."
   ]
  },
  {
   "cell_type": "code",
   "execution_count": 1,
   "id": "258e21f2",
   "metadata": {},
   "outputs": [
    {
     "name": "stdout",
     "output_type": "stream",
     "text": [
      "True\n",
      "False\n"
     ]
    }
   ],
   "source": [
    "import re\n",
    "def is_allowed_specific_char(string):\n",
    "    charRe = re.compile(r'[^a-zA-Z0-9]')\n",
    "    string = charRe.search(string)\n",
    "    return not bool(string)\n",
    "\n",
    "print(is_allowed_specific_char(\"ABCDEFabcdef123450\"))\n",
    "print(is_allowed_specific_char(\"*&%@#!}{\"))"
   ]
  },
  {
   "cell_type": "markdown",
   "id": "d92871f1",
   "metadata": {},
   "source": [
    "2)Write a Python program that matches a string that has an a followed by zero or more b's.\n"
   ]
  },
  {
   "cell_type": "code",
   "execution_count": 2,
   "id": "ebe314d1",
   "metadata": {},
   "outputs": [
    {
     "name": "stdout",
     "output_type": "stream",
     "text": [
      "Not matched!\n",
      "Not matched!\n",
      "Found a match!\n",
      "Found a match!\n",
      "Found a match!\n"
     ]
    }
   ],
   "source": [
    "import re\n",
    "def text_match(text):\n",
    "        patterns = '^a(b*)$'\n",
    "        if re.search(patterns,  text):\n",
    "                return 'Found a match!'\n",
    "        else:\n",
    "                return('Not matched!')\n",
    "print(text_match(\"ac\"))\n",
    "print(text_match(\"abc\"))\n",
    "print(text_match(\"a\"))\n",
    "print(text_match(\"ab\"))\n",
    "print(text_match(\"abb\"))"
   ]
  },
  {
   "cell_type": "markdown",
   "id": "e0de80ed",
   "metadata": {},
   "source": [
    "3)Replace only the first occurrence of 5 with five for the given string"
   ]
  },
  {
   "cell_type": "code",
   "execution_count": 3,
   "id": "4cff2abf",
   "metadata": {},
   "outputs": [
    {
     "data": {
      "text/plain": [
       "'They ate five apples and five oranges'"
      ]
     },
     "execution_count": 3,
     "metadata": {},
     "output_type": "execute_result"
    }
   ],
   "source": [
    "ip = 'They ate 5 apples and 5 oranges'\n",
    "#new_ip = ip.replace(\"5\",\"five\",5)\n",
    "#print(new_ip)\n",
    "re.sub(r'5','five',ip)"
   ]
  },
  {
   "cell_type": "markdown",
   "id": "db850b35",
   "metadata": {},
   "source": [
    "4)Write a Python program that matches a string that has an a followed by three 'b'."
   ]
  },
  {
   "cell_type": "code",
   "execution_count": 4,
   "id": "004c1267",
   "metadata": {},
   "outputs": [
    {
     "name": "stdout",
     "output_type": "stream",
     "text": [
      "Found a match!\n",
      "Found a match!\n"
     ]
    }
   ],
   "source": [
    "import re\n",
    "def text_match(text):\n",
    "        patterns = 'ab{3}?'\n",
    "        if re.search(patterns,  text):\n",
    "                return 'Found a match!'\n",
    "        else:\n",
    "                return('Not matched!')\n",
    "\n",
    "print(text_match(\"abbb\"))\n",
    "print(text_match(\"aabbbbbc\"))"
   ]
  },
  {
   "cell_type": "markdown",
   "id": "59a93b90",
   "metadata": {},
   "source": [
    "5)Write a Python program that matches a string that has an 'a' followed by anything ending in 'b'."
   ]
  },
  {
   "cell_type": "code",
   "execution_count": 5,
   "id": "af3ff602",
   "metadata": {},
   "outputs": [
    {
     "name": "stdout",
     "output_type": "stream",
     "text": [
      "Not matched!\n",
      "Not matched!\n",
      "Found a match!\n"
     ]
    }
   ],
   "source": [
    "import re\n",
    "def text_match(text):\n",
    "        patterns = 'a.*?b$'\n",
    "        if re.search(patterns,  text):\n",
    "                return 'Found a match!'\n",
    "        else:\n",
    "                return('Not matched!')\n",
    "\n",
    "print(text_match(\"aabbbbd\"))\n",
    "print(text_match(\"aabAbbbc\"))\n",
    "print(text_match(\"accddbbjjjb\"))\n"
   ]
  },
  {
   "cell_type": "markdown",
   "id": "446c5cdf",
   "metadata": {},
   "source": [
    "6)Write a Python program to search for numbers (0-9) of length between 1 and 3 in a given string."
   ]
  },
  {
   "cell_type": "code",
   "execution_count": 6,
   "id": "9a31be46",
   "metadata": {},
   "outputs": [
    {
     "name": "stdout",
     "output_type": "stream",
     "text": [
      "Number of length 1 to 3\n",
      "1\n",
      "12\n",
      "13\n",
      "345\n"
     ]
    }
   ],
   "source": [
    "txt=\"Exercises number 1, 12, 13 and 345 are important\"\n",
    "import re\n",
    "results = re.finditer(r\"([0-9]{1,3})\", txt)\n",
    "print(\"Number of length 1 to 3\")\n",
    "for n in results:\n",
    "     print(n.group(0))\n"
   ]
  },
  {
   "cell_type": "markdown",
   "id": "ff8ce5e5",
   "metadata": {},
   "source": [
    "7)Write a Python program to search for literal strings within a string.\\\n",
    "Sample text : 'The quick brown fox jumps over the lazy dog.'\n",
    "Searched words : 'fox', 'dog', 'horse'"
   ]
  },
  {
   "cell_type": "code",
   "execution_count": 7,
   "id": "a11c1302",
   "metadata": {},
   "outputs": [
    {
     "name": "stdout",
     "output_type": "stream",
     "text": [
      "Searching for \"fox\" in \"The quick brown fox jumps over the lazy dog.\" ->\n",
      "Matched!\n",
      "Searching for \"dog\" in \"The quick brown fox jumps over the lazy dog.\" ->\n",
      "Matched!\n",
      "Searching for \"horse\" in \"The quick brown fox jumps over the lazy dog.\" ->\n",
      "Not Matched!\n"
     ]
    }
   ],
   "source": [
    "import re\n",
    "patterns = [ 'fox', 'dog', 'horse' ]\n",
    "text = 'The quick brown fox jumps over the lazy dog.'\n",
    "for pattern in patterns:\n",
    "    print('Searching for \"%s\" in \"%s\" ->' % (pattern, text),)\n",
    "    if re.search(pattern,  text):\n",
    "        print('Matched!')\n",
    "    else:\n",
    "        print('Not Matched!')\n"
   ]
  },
  {
   "cell_type": "markdown",
   "id": "6e5ea106",
   "metadata": {},
   "source": [
    "8)Write a Python program to search for a literal string in a string and also find the location within the original string where the pattern occurs.\n",
    "Sample text : 'The quick brown fox jumps over the lazy dog.'\n",
    "Searched words : 'fox'"
   ]
  },
  {
   "cell_type": "code",
   "execution_count": 8,
   "id": "84c659e1",
   "metadata": {},
   "outputs": [
    {
     "name": "stdout",
     "output_type": "stream",
     "text": [
      "Found \"fox\" in \"The quick brown fox jumps over the lazy dog.\" from 16 to 19 \n"
     ]
    }
   ],
   "source": [
    "import re\n",
    "pattern = 'fox'\n",
    "text = 'The quick brown fox jumps over the lazy dog.'\n",
    "match = re.search(pattern, text)\n",
    "s = match.start()\n",
    "e = match.end()\n",
    "print('Found \"%s\" in \"%s\" from %d to %d ' % \\\n",
    "    (match.re.pattern, match.string, s, e))\n"
   ]
  },
  {
   "cell_type": "markdown",
   "id": "081c5728",
   "metadata": {},
   "source": [
    "9)Write a Python program to extract year, month and date from an URL"
   ]
  },
  {
   "cell_type": "code",
   "execution_count": 9,
   "id": "b783a56e",
   "metadata": {},
   "outputs": [
    {
     "name": "stdout",
     "output_type": "stream",
     "text": [
      "[('2016', '09', '02')]\n"
     ]
    }
   ],
   "source": [
    "url1= \"https://www.washingtonpost.com/news/football-insider/wp/2016/09/02/odell-beckhams-fame-rests-on-one-stupid-little-ball-josh-norman-tells-author/\"\n",
    "import re\n",
    "def extract_date(url):\n",
    "        return re.findall(r'/(\\d{4})/(\\d{1,2})/(\\d{1,2})/', url)\n",
    "print(extract_date(url1))\n"
   ]
  },
  {
   "cell_type": "markdown",
   "id": "b7bdf6dd",
   "metadata": {},
   "source": [
    "10)Write a Python program to find URLs in a string"
   ]
  },
  {
   "cell_type": "code",
   "execution_count": 10,
   "id": "d8a03501",
   "metadata": {},
   "outputs": [
    {
     "name": "stdout",
     "output_type": "stream",
     "text": [
      "Original string:  Contents :Python ExamplesEven More Examples\n",
      "Urls:  []\n"
     ]
    }
   ],
   "source": [
    "text = 'Contents :Python ExamplesEven More Examples'\n",
    "import re\n",
    "urls = re.findall('http[s]?://(?:[a-zA-Z]|[0-9]|[$-_@.&+]|[!*,]|(?:%[0-9a-fA-F][0-9a-fA-F]))+', text)\n",
    "print(\"Original string: \",text)\n",
    "print(\"Urls: \",urls)\n",
    "\n",
    "     "
   ]
  },
  {
   "cell_type": "markdown",
   "id": "62fa0c80",
   "metadata": {},
   "source": [
    "11)Write a Python program to remove the parenthesis area in a string.\\\n",
    "Sample data : [\"example (.com)\", \"w3resource\", \"github (.com)\", \"stackoverflow (.com)\"]\n",
    "Expected Output:\n",
    "example\n",
    "w3resource\n",
    "github\n",
    "stackoverflow. \\"
   ]
  },
  {
   "cell_type": "code",
   "execution_count": 24,
   "id": "7fadea9f",
   "metadata": {},
   "outputs": [
    {
     "name": "stdout",
     "output_type": "stream",
     "text": [
      "example (.com\n",
      "w3resource\n",
      "github (.com\n",
      "stackoverflow (.com\n"
     ]
    }
   ],
   "source": [
    "import re\n",
    "items = [\"example (.com)\", \"w3resource\", \"github (.com)\", \"stackoverflow (.com)\"]\n",
    "for item in items:\n",
    "    print(re.sub(r\" ?[)]+\", \"\", item))"
   ]
  },
  {
   "cell_type": "markdown",
   "id": "4f88cc09",
   "metadata": {},
   "source": [
    "12)Write a Python program to concatenate the consecutive numbers in a given string. \\\n",
    "Original string:\n",
    "Enter at 1 20 Kearny Street. The security desk can direct you to floor 1 6. Please have your identification ready. \\\n",
    "\n",
    "After concatenating the consecutive numbers in the said string:\n",
    "Enter at 120 Kearny Street. The security desk can direct you to floor 16. Please have your identification ready."
   ]
  },
  {
   "cell_type": "code",
   "execution_count": 25,
   "id": "2388d71a",
   "metadata": {},
   "outputs": [
    {
     "name": "stdout",
     "output_type": "stream",
     "text": [
      "Original string:\n",
      "Enter at 1 20 Kearny Street. The security desk can direct you to floor 1 6. Please have your identification ready.\n",
      "\n",
      "After concatenating the consecutive numbers in the said string:\n",
      "Enter at 120 Kearny Street. The security desk can direct you to floor 16. Please have your identification ready.\n"
     ]
    }
   ],
   "source": [
    "import re\n",
    "txt = \"Enter at 1 20 Kearny Street. The security desk can direct you to floor 1 6. Please have your identification ready.\"\n",
    "print(\"Original string:\")\n",
    "print(txt)\n",
    "new_txt = re.sub(r\"(?<=\\d)\\s(?=\\d)\", '', txt)\n",
    "print('\\nAfter concatenating the consecutive numbers in the said string:')\n",
    "print(new_txt)\n"
   ]
  },
  {
   "cell_type": "code",
   "execution_count": null,
   "id": "0336a741",
   "metadata": {},
   "outputs": [],
   "source": []
  }
 ],
 "metadata": {
  "kernelspec": {
   "display_name": "Python 3 (ipykernel)",
   "language": "python",
   "name": "python3"
  },
  "language_info": {
   "codemirror_mode": {
    "name": "ipython",
    "version": 3
   },
   "file_extension": ".py",
   "mimetype": "text/x-python",
   "name": "python",
   "nbconvert_exporter": "python",
   "pygments_lexer": "ipython3",
   "version": "3.11.4"
  }
 },
 "nbformat": 4,
 "nbformat_minor": 5
}
