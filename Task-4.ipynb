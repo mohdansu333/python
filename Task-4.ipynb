{
 "cells": [
  {
   "cell_type": "markdown",
   "id": "d30ecca6",
   "metadata": {},
   "source": [
    "Exercise 1: Create a function with a default argument\n",
    "Write a program to create a function show_employee() using the following conditions.\n",
    "It should accept the employee’s name and salary and display both.\n",
    "If the salary is missing in the function call then assign default value 9000 to salary\n",
    "Given:\n",
    "showEmployee(\"Ben\", 12000)\n",
    "showEmployee(\"Jessa\")\n",
    "Expected output:\n",
    "Name: Ben salary: 12000\n",
    "Name: Jessa salary: 9000\n"
   ]
  },
  {
   "cell_type": "code",
   "execution_count": null,
   "id": "55038fd9",
   "metadata": {},
   "outputs": [],
   "source": [
    "def show_employee(name, salary=9000):\n",
    "    print(\"Name:\", name, \"salary:\", salary)\n",
    "\n",
    "# Test the function\n",
    "show_employee(\"Ben\", 12000)\n",
    "show_employee(\"Jessa\")\n"
   ]
  },
  {
   "cell_type": "markdown",
   "id": "31168139",
   "metadata": {},
   "source": [
    "Exercise 2: Create an inner function to calculate the addition in the following way\n",
    "Create an outer function that will accept two parameters, a and b\n",
    "Create an inner function inside an outer function that will calculate the addition of a and b\n",
    "At last, an outer function will add 5 into addition and return it\n"
   ]
  },
  {
   "cell_type": "code",
   "execution_count": 2,
   "id": "205566e9",
   "metadata": {},
   "outputs": [
    {
     "name": "stdout",
     "output_type": "stream",
     "text": [
      "10\n"
     ]
    }
   ],
   "source": [
    "def outer_function(a, b):\n",
    "    # Inner function\n",
    "    def inner_function(a, b):\n",
    "        return a + b\n",
    "\n",
    "    # Add 5 to the result of the inner function and return\n",
    "    return inner_function(a, b) + 5\n",
    "\n",
    "# Test the function\n",
    "print(outer_function(3, 2))"
   ]
  },
  {
   "cell_type": "markdown",
   "id": "0ab1ce0f",
   "metadata": {},
   "source": [
    "Exercise 3: Generate a Python list of all the even numbers between 4 to 30"
   ]
  },
  {
   "cell_type": "code",
   "execution_count": 3,
   "id": "569ba90b",
   "metadata": {},
   "outputs": [
    {
     "name": "stdout",
     "output_type": "stream",
     "text": [
      "[4, 6, 8, 10, 12, 14, 16, 18, 20, 22, 24, 26, 28, 30]\n"
     ]
    }
   ],
   "source": [
    "even_numbers = [i for i in range(4, 31) if i % 2 == 0]\n",
    "print(even_numbers)"
   ]
  },
  {
   "cell_type": "markdown",
   "id": "1851606b",
   "metadata": {},
   "source": [
    "Exercise 4: Lambda Function to Check if value is in a List\n",
    "Given a list, the task is to write a Python program to check if the value exists in the list or not using the lambda function.\n",
    "\n",
    "\n",
    "Input  : L = [1, 2, 3, 4, 5]\n",
    "          element = 4\n",
    "Output :  Element is Present in the list\n",
    "\n",
    "Input :  L = [1, 2, 3, 4, 5]\n",
    "          element = 8\n",
    "Output :  Element is NOT Present in the list\n",
    "\n"
   ]
  },
  {
   "cell_type": "code",
   "execution_count": 4,
   "id": "1d06bf89",
   "metadata": {},
   "outputs": [
    {
     "name": "stdout",
     "output_type": "stream",
     "text": [
      "Element is Present in the list\n",
      "Element is NOT Present in the list\n"
     ]
    }
   ],
   "source": [
    "# Define the list\n",
    "L = [1, 2, 3, 4, 5]\n",
    "\n",
    "# Define the lambda function\n",
    "check = lambda x: \"Element is Present in the list\" if x in L else \"Element is NOT Present in the list\"\n",
    "\n",
    "# Test the function\n",
    "print(check(4))  # Output: Element is Present in the list\n",
    "print(check(8))  # Output: Element is NOT Present in the list"
   ]
  },
  {
   "cell_type": "markdown",
   "id": "69650b49",
   "metadata": {},
   "source": [
    "Exercise 5: Sort list of tuples with their sum\n",
    "Sort the points based on their sum of elements in the tuples\n",
    "\n",
    "points = [(1, 2), (5, 3), (0, 7), (3, 1)]\n"
   ]
  },
  {
   "cell_type": "code",
   "execution_count": 5,
   "id": "80103ac6",
   "metadata": {},
   "outputs": [
    {
     "name": "stdout",
     "output_type": "stream",
     "text": [
      "[(1, 2), (3, 1), (0, 7), (5, 3)]\n"
     ]
    }
   ],
   "source": [
    "points = [(1, 2), (5, 3), (0, 7), (3, 1)]\n",
    "\n",
    "# Sort the list of tuples based on their sum\n",
    "sorted_points = sorted(points, key=lambda x: sum(x))\n",
    "\n",
    "print(sorted_points)"
   ]
  },
  {
   "cell_type": "markdown",
   "id": "66c1dd31",
   "metadata": {},
   "source": [
    "Exercise 6 :\n",
    "Write a python function, which will find all such numbers between 1000 and 3000 (both included) such that each digit of the number is an even number. Return the results as a list\n",
    "\n"
   ]
  },
  {
   "cell_type": "code",
   "execution_count": 6,
   "id": "bfbd7f27",
   "metadata": {},
   "outputs": [
    {
     "name": "stdout",
     "output_type": "stream",
     "text": [
      "[2000, 2002, 2004, 2006, 2008, 2020, 2022, 2024, 2026, 2028, 2040, 2042, 2044, 2046, 2048, 2060, 2062, 2064, 2066, 2068, 2080, 2082, 2084, 2086, 2088, 2200, 2202, 2204, 2206, 2208, 2220, 2222, 2224, 2226, 2228, 2240, 2242, 2244, 2246, 2248, 2260, 2262, 2264, 2266, 2268, 2280, 2282, 2284, 2286, 2288, 2400, 2402, 2404, 2406, 2408, 2420, 2422, 2424, 2426, 2428, 2440, 2442, 2444, 2446, 2448, 2460, 2462, 2464, 2466, 2468, 2480, 2482, 2484, 2486, 2488, 2600, 2602, 2604, 2606, 2608, 2620, 2622, 2624, 2626, 2628, 2640, 2642, 2644, 2646, 2648, 2660, 2662, 2664, 2666, 2668, 2680, 2682, 2684, 2686, 2688, 2800, 2802, 2804, 2806, 2808, 2820, 2822, 2824, 2826, 2828, 2840, 2842, 2844, 2846, 2848, 2860, 2862, 2864, 2866, 2868, 2880, 2882, 2884, 2886, 2888]\n"
     ]
    }
   ],
   "source": [
    "def find_even_numbers():\n",
    "    even_numbers = []\n",
    "    for number in range(1000, 3001):\n",
    "        if all(int(digit) % 2 == 0 for digit in str(number)):\n",
    "            even_numbers.append(number)\n",
    "    return even_numbers\n",
    "\n",
    "# Call the function and print the result\n",
    "print(find_even_numbers())"
   ]
  },
  {
   "cell_type": "markdown",
   "id": "7ed57716",
   "metadata": {},
   "source": [
    "Exercise 7 :\n",
    "Write a python function that accepts a sentence and calculate and return the number of letters and digits.\n",
    "Suppose the following input is supplied to the program:\n",
    "hello world! 123\n",
    "Then, the output should be:\n",
    "LETTERS 10\n",
    "DIGITS 3\n"
   ]
  },
  {
   "cell_type": "markdown",
   "id": "d1ab44e0",
   "metadata": {},
   "source": []
  },
  {
   "cell_type": "code",
   "execution_count": 8,
   "id": "3e63ccd3",
   "metadata": {},
   "outputs": [
    {
     "name": "stdout",
     "output_type": "stream",
     "text": [
      "LETTERS 10\n",
      "DIGITS 3\n"
     ]
    }
   ],
   "source": [
    "def count_letters_digits(s):\n",
    "    letter_count = sum(c.isalpha() for c in s)\n",
    "    digit_count = sum(c.isdigit() for c in s)\n",
    "    return letter_count, digit_count\n",
    "\n",
    "# Test the function\n",
    "sentence = \"hello world! 123\"\n",
    "letters, digits = count_letters_digits(sentence)\n",
    "print(\"LETTERS\", letters)\n",
    "print(\"DIGITS\", digits)"
   ]
  },
  {
   "cell_type": "markdown",
   "id": "5dfb4e0b",
   "metadata": {},
   "source": [
    "Exercise 8  MAP: \n",
    "Write a Python program to convert all the characters into uppercase and lowercase and eliminate duplicate letters from a given sequence. Use the map() function\n"
   ]
  },
  {
   "cell_type": "code",
   "execution_count": 24,
   "id": "1723a90a",
   "metadata": {},
   "outputs": [
    {
     "ename": "ValueError",
     "evalue": "substring not found",
     "output_type": "error",
     "traceback": [
      "\u001b[1;31m---------------------------------------------------------------------------\u001b[0m",
      "\u001b[1;31mValueError\u001b[0m                                Traceback (most recent call last)",
      "Cell \u001b[1;32mIn[24], line 5\u001b[0m\n\u001b[0;32m      2\u001b[0m sequence \u001b[38;5;241m=\u001b[39m \u001b[38;5;124m\"\u001b[39m\u001b[38;5;124mHello World!\u001b[39m\u001b[38;5;124m\"\u001b[39m\n\u001b[0;32m      4\u001b[0m \u001b[38;5;66;03m# Convert to uppercase and lowercase, and eliminate duplicates\u001b[39;00m\n\u001b[1;32m----> 5\u001b[0m uppercase \u001b[38;5;241m=\u001b[39m \u001b[38;5;124m\"\u001b[39m\u001b[38;5;124m\"\u001b[39m\u001b[38;5;241m.\u001b[39mjoin(\u001b[38;5;28;43msorted\u001b[39;49m\u001b[43m(\u001b[49m\u001b[38;5;28;43mset\u001b[39;49m\u001b[43m(\u001b[49m\u001b[38;5;28;43mmap\u001b[39;49m\u001b[43m(\u001b[49m\u001b[38;5;28;43mstr\u001b[39;49m\u001b[38;5;241;43m.\u001b[39;49m\u001b[43mupper\u001b[49m\u001b[43m,\u001b[49m\u001b[43m \u001b[49m\u001b[43msequence\u001b[49m\u001b[43m)\u001b[49m\u001b[43m)\u001b[49m\u001b[43m,\u001b[49m\u001b[43m \u001b[49m\u001b[43mkey\u001b[49m\u001b[38;5;241;43m=\u001b[39;49m\u001b[43msequence\u001b[49m\u001b[38;5;241;43m.\u001b[39;49m\u001b[43mindex\u001b[49m\u001b[43m)\u001b[49m)\n\u001b[0;32m      6\u001b[0m lowercase \u001b[38;5;241m=\u001b[39m \u001b[38;5;124m\"\u001b[39m\u001b[38;5;124m\"\u001b[39m\u001b[38;5;241m.\u001b[39mjoin(\u001b[38;5;28msorted\u001b[39m(\u001b[38;5;28mset\u001b[39m(\u001b[38;5;28mmap\u001b[39m(\u001b[38;5;28mstr\u001b[39m\u001b[38;5;241m.\u001b[39mlower, sequence)), key\u001b[38;5;241m=\u001b[39msequence\u001b[38;5;241m.\u001b[39mindex))\n\u001b[0;32m      8\u001b[0m \u001b[38;5;28mprint\u001b[39m(\u001b[38;5;124m\"\u001b[39m\u001b[38;5;124mUppercase:\u001b[39m\u001b[38;5;124m\"\u001b[39m, uppercase)\n",
      "\u001b[1;31mValueError\u001b[0m: substring not found"
     ]
    }
   ],
   "source": [
    "# Original sequence\n",
    "sequence = \"Hello World!\"\n",
    "\n",
    "# Convert to uppercase and lowercase, and eliminate duplicates\n",
    "uppercase = \"\".join(sorted(set(map(str.upper, sequence)), key=sequence.index))\n",
    "lowercase = \"\".join(sorted(set(map(str.lower, sequence)), key=sequence.index))\n",
    "\n",
    "print(\"Uppercase:\", uppercase)\n",
    "print(\"Lowercase:\", lowercase)"
   ]
  },
  {
   "cell_type": "markdown",
   "id": "476a298d",
   "metadata": {},
   "source": [
    "Exercise 9 MAP:  Write a Python program to element wise add two given lists and find the difference between them. Use the map() function\n"
   ]
  },
  {
   "cell_type": "code",
   "execution_count": 12,
   "id": "f58d4dd8",
   "metadata": {},
   "outputs": [
    {
     "name": "stdout",
     "output_type": "stream",
     "text": [
      "Addition: [5, 7, 9]\n",
      "Difference: [-3, -3, -3]\n"
     ]
    }
   ],
   "source": [
    "def process_lists(list1, list2):\n",
    "    # Element-wise addition and subtraction\n",
    "    addition = list(map(lambda x, y: x + y, list1, list2))\n",
    "    difference = list(map(lambda x, y: x - y, list1, list2))\n",
    "\n",
    "    return addition, difference\n",
    "\n",
    "# Test the function\n",
    "list1 = [1, 2, 3]\n",
    "list2 = [4, 5, 6]\n",
    "addition, difference = process_lists(list1, list2)\n",
    "print(\"Addition:\", addition)\n",
    "print(\"Difference:\", difference)"
   ]
  },
  {
   "cell_type": "markdown",
   "id": "9e1930e8",
   "metadata": {},
   "source": [
    "Exercise 10 Filter: \n",
    "Write a Python program to filter the height and weight of students, which are stored in a dictionary using lambda.\n",
    "Original Dictionary:\n",
    "{'Cierra Vega': (6.2, 71), 'Alden Cantrell': (5.9, 65), 'Kierra Gentry': (6.0, 68), 'Pierre Cox': (5.8, 66)}\n",
    "Height> 6ft and Weight> 70kg:\n",
    "{'Cierra Vega': (6.2, 71)}\n"
   ]
  },
  {
   "cell_type": "code",
   "execution_count": 13,
   "id": "5046ebd3",
   "metadata": {},
   "outputs": [
    {
     "name": "stdout",
     "output_type": "stream",
     "text": [
      "{'Cierra Vega': (6.2, 71)}\n"
     ]
    }
   ],
   "source": [
    "students = {\n",
    "    'Cierra Vega': (6.2, 71),\n",
    "    'Alden Cantrell': (5.9, 65),\n",
    "    'Kierra Gentry': (6.0, 68),\n",
    "    'Pierre Cox': (5.8, 66)\n",
    "}\n",
    "\n",
    "# Filter the dictionary\n",
    "filtered_students = dict(filter(lambda item: item[1][0] > 6 and item[1][1] > 70, students.items()))\n",
    "\n",
    "print(filtered_students)"
   ]
  },
  {
   "cell_type": "markdown",
   "id": "8e88931a",
   "metadata": {},
   "source": [
    "Exercise 11 Filter: \n",
    "Write a Python program to remove all elements from a given list present in another list using lambda.\n",
    "Original lists:\n",
    "list1: [1, 2, 3, 4, 5, 6, 7, 8, 9, 10]\n",
    "list2: [2, 4, 6, 8]\n",
    "Remove all elements from 'list1' present in 'list2:\n",
    "[1, 3, 5, 7, 9, 10]\n",
    "\n",
    "\n"
   ]
  },
  {
   "cell_type": "code",
   "execution_count": 14,
   "id": "e88fe401",
   "metadata": {},
   "outputs": [
    {
     "name": "stdout",
     "output_type": "stream",
     "text": [
      "[1, 3, 5, 7, 9, 10]\n"
     ]
    }
   ],
   "source": [
    "list1 = [1, 2, 3, 4, 5, 6, 7, 8, 9, 10]\n",
    "list2 = [2, 4, 6, 8]\n",
    "\n",
    "# Remove elements from list1 that are present in list2\n",
    "filtered_list = list(filter(lambda x: x not in list2, list1))\n",
    "\n",
    "print(filtered_list)"
   ]
  },
  {
   "cell_type": "markdown",
   "id": "46f254d9",
   "metadata": {},
   "source": [
    "Exercise 12 Reduce: \n",
    "\n",
    "\n",
    "Write a Python program to calculate the product of a given list of numbers using lambda.\n",
    "list1: [1, 2, 3, 4, 5, 6, 7, 8, 9, 10]\n",
    "Product of the said list numbers:\n",
    "3628800\n"
   ]
  },
  {
   "cell_type": "code",
   "execution_count": 17,
   "id": "cbc8ac85",
   "metadata": {},
   "outputs": [
    {
     "name": "stdout",
     "output_type": "stream",
     "text": [
      "3628800\n"
     ]
    }
   ],
   "source": [
    "from functools import reduce\n",
    "\n",
    "# Original list\n",
    "list1 = [1, 2, 3, 4, 5, 6, 7, 8, 9, 10]\n",
    "\n",
    "# Calculate the product of the list\n",
    "product = reduce(lambda x, y: x * y, list1)\n",
    "\n",
    "print(product)"
   ]
  },
  {
   "cell_type": "markdown",
   "id": "a579538e",
   "metadata": {},
   "source": [
    "Exercise 13 Reduce: \n",
    "\n",
    "\n",
    " Write a Python program to multiply all the numbers in a given list using lambda.\n",
    "Original list:\n",
    "[4, 3, 2, 2, -1, 18]\n",
    "Mmultiply all the numbers of the said list: -864\n"
   ]
  },
  {
   "cell_type": "code",
   "execution_count": 18,
   "id": "a370fd84",
   "metadata": {},
   "outputs": [
    {
     "name": "stdout",
     "output_type": "stream",
     "text": [
      "-864\n"
     ]
    }
   ],
   "source": [
    "from functools import reduce\n",
    "\n",
    "# Original list\n",
    "list1 = [4, 3, 2, 2, -1, 18]\n",
    "\n",
    "# Calculate the product of the list\n",
    "product = reduce(lambda x, y: x * y, list1)\n",
    "\n",
    "print(product)"
   ]
  },
  {
   "cell_type": "markdown",
   "id": "caa1a1a6",
   "metadata": {},
   "source": [
    "Exercise 14 Reduce: \n",
    "\n",
    "\n",
    "Write a Python program to calculate the average value of the numbers in a given tuple of tuples using lambda.\n",
    "Original Tuple:\n",
    "((10, 10, 10), (30, 45, 56), (81, 80, 39), (1, 2, 3))\n",
    "Average value of the numbers of the said tuple of tuples:\n",
    "(30.5, 34.25, 27.0)\n"
   ]
  },
  {
   "cell_type": "code",
   "execution_count": 19,
   "id": "2b1647fc",
   "metadata": {},
   "outputs": [
    {
     "name": "stdout",
     "output_type": "stream",
     "text": [
      "(30.5, 34.25, 27.0)\n"
     ]
    }
   ],
   "source": [
    "from functools import reduce\n",
    "\n",
    "# Original tuple of tuples\n",
    "tuples = ((10, 10, 10), (30, 45, 56), (81, 80, 39), (1, 2, 3))\n",
    "\n",
    "# Calculate the average of each position in the tuples\n",
    "average = tuple(reduce(lambda x, y: x + y, values) / len(values) for values in zip(*tuples))\n",
    "\n",
    "print(average)"
   ]
  },
  {
   "cell_type": "markdown",
   "id": "b59b6909",
   "metadata": {},
   "source": [
    "Exercise 15: \n",
    "\n",
    "\n",
    "Write a Python program to sort a given mixed list of integers and strings using lambda. Numbers must be sorted before strings.\n",
    "Original list:\n",
    "[19, 'red', 12, 'green', 'blue', 10, 'white', 'green', 1]\n",
    "Sort the said mixed list of integers and strings:\n",
    "[1, 10, 12, 19, 'blue', 'green', 'green', 'red', 'white']\n"
   ]
  },
  {
   "cell_type": "code",
   "execution_count": 20,
   "id": "69a32919",
   "metadata": {},
   "outputs": [
    {
     "name": "stdout",
     "output_type": "stream",
     "text": [
      "[1, 10, 12, 19, 'blue', 'green', 'green', 'red', 'white']\n"
     ]
    }
   ],
   "source": [
    "# Original list\n",
    "mixed_list = [19, 'red', 12, 'green', 'blue', 10, 'white', 'green', 1]\n",
    "\n",
    "# Sort the list\n",
    "sorted_list = sorted(mixed_list, key=lambda x: (isinstance(x, str), x))\n",
    "\n",
    "print(sorted_list)"
   ]
  },
  {
   "cell_type": "markdown",
   "id": "2f0a854b",
   "metadata": {},
   "source": [
    "Exercise 16: \n",
    "Write a Python program to count the occurrences of items in a given list using lambda.\n",
    "Original list:\n",
    "[3, 4, 5, 8, 0, 3, 8, 5, 0, 3, 1, 5, 2, 3, 4, 2]\n",
    "Count the occurrences of the items in the said list:\n",
    "{3: 4, 4: 2, 5: 3, 8: 2, 0: 2, 1: 1, 2: 2}\n",
    "\n",
    "\n"
   ]
  },
  {
   "cell_type": "code",
   "execution_count": 21,
   "id": "8ca78b5b",
   "metadata": {},
   "outputs": [
    {
     "name": "stdout",
     "output_type": "stream",
     "text": [
      "Counter({3: 4, 5: 3, 4: 2, 8: 2, 0: 2, 2: 2, 1: 1})\n"
     ]
    }
   ],
   "source": [
    "\n",
    "\n",
    "from collections import Counter\n",
    "\n",
    "# Original list\n",
    "original_list = [3, 4, 5, 8, 0, 3, 8, 5, 0, 3, 1, 5, 2, 3, 4, 2]\n",
    "\n",
    "# Count the occurrences of each item\n",
    "counts = Counter(original_list)\n",
    "\n",
    "print(counts)"
   ]
  },
  {
   "cell_type": "markdown",
   "id": "a54c2b58",
   "metadata": {},
   "source": [
    "Exercise 17: \n",
    "\n",
    "\n",
    "Write a Python program to remove None values from a given list using the lambda function.\n",
    "Original list:\n",
    "[12, 0, None, 23, None, -55, 234, 89, None, 0, 6, -12]\n",
    "Remove None value from the said list:\n",
    "[12, 0, 23, -55, 234, 89, 0, 6, -12]\n",
    "\n",
    "\n"
   ]
  },
  {
   "cell_type": "code",
   "execution_count": 22,
   "id": "ecc963a2",
   "metadata": {},
   "outputs": [
    {
     "name": "stdout",
     "output_type": "stream",
     "text": [
      "[12, 0, 23, -55, 234, 89, 0, 6, -12]\n"
     ]
    }
   ],
   "source": [
    "# Original list\n",
    "original_list = [12, 0, None, 23, None, -55, 234, 89, None, 0, 6, -12]\n",
    "\n",
    "# Remove None values from the list\n",
    "filtered_list = list(filter(lambda x: x is not None, original_list))\n",
    "\n",
    "print(filtered_list)"
   ]
  },
  {
   "cell_type": "code",
   "execution_count": null,
   "id": "99601aee",
   "metadata": {},
   "outputs": [],
   "source": []
  }
 ],
 "metadata": {
  "kernelspec": {
   "display_name": "Python 3 (ipykernel)",
   "language": "python",
   "name": "python3"
  },
  "language_info": {
   "codemirror_mode": {
    "name": "ipython",
    "version": 3
   },
   "file_extension": ".py",
   "mimetype": "text/x-python",
   "name": "python",
   "nbconvert_exporter": "python",
   "pygments_lexer": "ipython3",
   "version": "3.11.4"
  }
 },
 "nbformat": 4,
 "nbformat_minor": 5
}
